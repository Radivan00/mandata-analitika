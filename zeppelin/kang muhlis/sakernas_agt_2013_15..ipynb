﻿{
  "metadata": {
    "name": "sakernas_agt_2013_15",
    "kernelspec": {
      "language": "scala",
      "name": "spark2-scala"
    },
    "language_info": {
      "codemirror_mode": "text/x-scala",
      "file_extension": ".scala",
      "mimetype": "text/x-scala",
      "name": "scala",
      "pygments_lexer": "scala"
    }
  },
  "nbformat": 4,
  "nbformat_minor": 2,
  "cells": [
    {
      "cell_type": "code",
      "execution_count": 0,
      "metadata": {
        "autoscroll": "auto"
      },
      "outputs": [],
      "source": "import psycopg2\r\nimport pandas as pd"
    },
    {
      "cell_type": "code",
      "execution_count": 1,
      "metadata": {
        "autoscroll": "auto"
      },
      "outputs": [],
      "source": "#database source\r\nconn_source \u003d psycopg2.connect(\r\n    database\u003d\"akuisisi\",\r\n    user\u003d\"pusdatinrenbang\",\r\n    password\u003d\"sementar4\",\r\n    host\u003d\"gis-db.bappenas.go.id\",\r\n    port\u003d\"5433\"\r\n)"
    },
    {
      "cell_type": "code",
      "execution_count": 2,
      "metadata": {
        "autoscroll": "auto"
      },
      "outputs": [],
      "source": "# Create a cursor database source\r\ncursor \u003d conn_source.cursor()\r\n\r\n# create\r\n# variabel database source schema and table\r\nschema_name \u003d \"bps\"\r\ntable_name \u003d \"sakernas_agt_2013_15\""
    },
    {
      "cell_type": "code",
      "execution_count": 3,
      "metadata": {
        "autoscroll": "auto"
      },
      "outputs": [],
      "source": "#selection data from table in schema\r\nquery_dbsource \u003d f\"SELECT * FROM {schema_name}.{table_name};\"\r\ncursor.execute(query_dbsource)\r\n\r\n# Mengambil hasil query dan menyimpannya di DataFrame Pandas\r\ncolumns \u003d [desc[0] for desc in cursor.description]\r\ndata \u003d cursor.fetchall()\r\ndf \u003d pd.DataFrame(data, columns\u003dcolumns)\r\nprint(df)"
    },
    {
      "cell_type": "code",
      "execution_count": 4,
      "metadata": {
        "autoscroll": "auto"
      },
      "outputs": [],
      "source": "#cek variabel dataframe\r\ndf.head()"
    },
    {
      "cell_type": "code",
      "execution_count": 5,
      "metadata": {
        "autoscroll": "auto"
      },
      "outputs": [],
      "source": "#cek variabel dataframe\r\ndf.info(\u0027 \u0027)"
    },
    {
      "cell_type": "code",
      "execution_count": 6,
      "metadata": {
        "autoscroll": "auto"
      },
      "outputs": [],
      "source": "#seleksi field\nbase_field \u003d df.iloc[:, list(range(14))+ [72]+[73]]\nprint(base_field)"
    },
    {
      "cell_type": "code",
      "execution_count": 7,
      "metadata": {
        "autoscroll": "auto"
      },
      "outputs": [],
      "source": "#cek field \nbase_field.info()"
    },
    {
      "cell_type": "code",
      "execution_count": 8,
      "metadata": {
        "autoscroll": "auto"
      },
      "outputs": [],
      "source": "#seleksi variabel slicing \nbase_slicing \u003d df.iloc[:, list(set(range(df.shape[1])) - set(list(range(14)) + [72] + [73]))]\n#print(base_slicing)"
    },
    {
      "cell_type": "code",
      "execution_count": 9,
      "metadata": {
        "autoscroll": "auto"
      },
      "outputs": [],
      "source": "#convert to array base slicing\narray_slicing \u003d base_slicing.columns.to_numpy()\n#print(array_slicing)\nprint(f\u0027Total number of columns: {len(array_slicing)}\u0027)"
    },
    {
      "cell_type": "code",
      "execution_count": 10,
      "metadata": {
        "autoscroll": "auto"
      },
      "outputs": [],
      "source": "#test base slicing\nbase_slicing.info(\u0027 \u0027)"
    },
    {
      "cell_type": "code",
      "execution_count": 11,
      "metadata": {
        "autoscroll": "auto"
      },
      "outputs": [],
      "source": "#hasil base field\ndf_base \u003d base_field.copy()\nprint(df_base)"
    },
    {
      "cell_type": "code",
      "execution_count": 12,
      "metadata": {
        "autoscroll": "auto"
      },
      "outputs": [],
      "source": "# #Looping untuk mengganti variabel kolom\n# for i in range(0, 5):\n#     schema_name \u003d \u0027bps\u0027\n#     materialized_view_name \u003d f\u0027sakernas_feb_2023_15_variabel_{base_slicing.columns[i]}\u0027\n#     column_name_from_df \u003d df[base_slicing.columns[i]]\n#     try:\n#         #print(df[base_slicing.columns[i]])\n#         #df_base.info()\n#         dataset \u003d pd.concat([df_base, df[base_slicing.columns[i]]], axis\u003d1)\n#         #dataset.insert(0, \u0027kode_variabel\u0027, df[base_slicing.columns[i]])\n#         # Convert Index to list of column names\n#         dataset_columns \u003d list(dataset.columns)\n#         # Construct the SELECT clause with the correct column name\n#         columns_query \u003d \u0027, \u0027.join(dataset_columns)\n#         #Create the materialized view query with the specified schema\n#         create_materialized_view_query \u003d f\"\"\"\n#              CREATE MATERIALIZED VIEW {schema_name}.{materialized_view_name}\n#              AS\n#              SELECT \u0027{column_name_from_df}\u0027 AS kode_variabel, {columns_query}\n#              FROM bps.sakernas_feb_2023_15;\n#          \"\"\"\n#         # Execute the query\n#         cursor.execute(create_materialized_view_query)\n#         print(dataset.columns)\n#         print(\u0027success\u0027)\n#         # columns_query \u003d \u0027, \u0027.join(dataset.columns)\n#         #dataset[0].remove()\n#     except Exception as e:\n#         # Response if an error occurs\n#         print(f\"An error occurred: {e}\")\n\n# # Commit the changes outside the loop\n# conn_source.commit()\nfor i in range(0, 66):\n    schema_name \u003d \u0027bps\u0027\n    materialized_view_name \u003d f\u0027sakernas_agt_2013_15_variabel_{base_slicing.columns[i]}\u0027\n    column_name_from_df \u003d df[base_slicing.columns[i]].name\n\n    try:\n        dataset \u003d pd.concat([df_base, df[base_slicing.columns[i]]], axis\u003d1)\n        dataset_columns \u003d list(dataset.columns)\n\n        # Construct the SELECT clause with the correct column names (quoted)\n        columns_query \u003d \u0027, \u0027.join(f\u0027\"{col}\"\u0027 for col in dataset_columns)\n\n        # Update the SQL query to use the correct column names (quoted)\n        create_materialized_view_query \u003d f\"\"\"\n            CREATE MATERIALIZED VIEW {schema_name}.{materialized_view_name}\n            AS\n            SELECT \u0027{column_name_from_df}\u0027 AS kode_variabel, {columns_query}\n            FROM bps.sakernas_agt_2013_15;\n        \"\"\"\n\n        # Execute the query\n        cursor.execute(create_materialized_view_query)\n        print(dataset.columns)\n        print(\u0027success\u0027)\n    except Exception as e:\n        # Response if an error occurs\n        print(f\"An error occurred: {e}\")\n\n# Commit the changes outside the loop\nconn_source.commit()"
    }
  ]
}