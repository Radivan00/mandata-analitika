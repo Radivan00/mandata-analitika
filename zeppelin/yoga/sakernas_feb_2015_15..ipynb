﻿{
  "metadata": {
    "name": "sakernas_feb_2015_15",
    "kernelspec": {
      "language": "scala",
      "name": "spark2-scala"
    },
    "language_info": {
      "codemirror_mode": "text/x-scala",
      "file_extension": ".scala",
      "mimetype": "text/x-scala",
      "name": "scala",
      "pygments_lexer": "scala"
    }
  },
  "nbformat": 4,
  "nbformat_minor": 2,
  "cells": [
    {
      "cell_type": "code",
      "execution_count": 0,
      "metadata": {
        "autoscroll": "auto"
      },
      "outputs": [],
      "source": "%python\nimport psycopg2\nimport pandas as pd"
    },
    {
      "cell_type": "code",
      "execution_count": 1,
      "metadata": {
        "autoscroll": "auto"
      },
      "outputs": [],
      "source": "%python\n#database source\nconn_source \u003d psycopg2.connect(\n    database\u003d\"akuisisi\",\n    user\u003d\"pusdatinrenbang\",\n    password\u003d\"sementar4\",\n    host\u003d\"gis-db.bappenas.go.id\",\n    port\u003d\"5433\"\n)"
    },
    {
      "cell_type": "code",
      "execution_count": 2,
      "metadata": {
        "autoscroll": "auto"
      },
      "outputs": [],
      "source": "%python\n#database target\n#conn_target \u003d psycopg2.connect(\n #   database\u003d\"warehouse\",\n  #  user\u003d\"pusdatinrenbang\",\n   # password\u003d\"sementar4\",\n    #host\u003d\"gis-db.bappenas.go.id\",\n#port\u003d\"5433\"\n#)"
    },
    {
      "cell_type": "code",
      "execution_count": 3,
      "metadata": {
        "autoscroll": "auto"
      },
      "outputs": [],
      "source": "%python\n# Create a cursor database source\ncursor \u003d conn_source.cursor()\n\n# create\n# variabel database source schema and table\nschema_name \u003d \"bps\"\ntable_name \u003d \"sakernas_feb_2015_15\""
    },
    {
      "cell_type": "code",
      "execution_count": 4,
      "metadata": {
        "autoscroll": "auto"
      },
      "outputs": [],
      "source": "%python\n#selection data from table in schema\nquery_dbsource \u003d f\"SELECT * FROM {schema_name}.{table_name};\"\ncursor.execute(query_dbsource)\n\n# Mengambil hasil query dan menyimpannya di DataFrame Pandas\ncolumns \u003d [desc[0] for desc in cursor.description]\ndata \u003d cursor.fetchall()\ndf \u003d pd.DataFrame(data, columns\u003dcolumns)\nprint(df)"
    },
    {
      "cell_type": "code",
      "execution_count": 5,
      "metadata": {
        "autoscroll": "auto"
      },
      "outputs": [],
      "source": "%python\n#cek variabel dataframe\ndf.head()"
    },
    {
      "cell_type": "code",
      "execution_count": 6,
      "metadata": {
        "autoscroll": "auto"
      },
      "outputs": [],
      "source": "%python\n#cek variabel dataframe\ndf.info(\u0027 \u0027)"
    },
    {
      "cell_type": "code",
      "execution_count": 7,
      "metadata": {
        "autoscroll": "auto"
      },
      "outputs": [],
      "source": "%python\n#cek variabel dataframe\ndf.info()"
    },
    {
      "cell_type": "code",
      "execution_count": 8,
      "metadata": {
        "autoscroll": "auto"
      },
      "outputs": [],
      "source": "%python\n#seleksi field\nbase_field \u003d df.iloc[:, :8]\nprint(base_field)"
    },
    {
      "cell_type": "code",
      "execution_count": 9,
      "metadata": {
        "autoscroll": "auto"
      },
      "outputs": [],
      "source": "%python\n#cek field \nbase_field.info()"
    },
    {
      "cell_type": "code",
      "execution_count": 10,
      "metadata": {
        "autoscroll": "auto"
      },
      "outputs": [],
      "source": "%python\n#seleksi variabel slicing \nbase_slicing \u003d df.iloc[:, 8:]\n#print(base_slicing)"
    },
    {
      "cell_type": "code",
      "execution_count": 11,
      "metadata": {
        "autoscroll": "auto"
      },
      "outputs": [],
      "source": "%python\n#convert to array base slicing\narray_slicing \u003d base_slicing.columns.to_numpy()\n#print(array_slicing)\nprint(f\u0027Total number of columns: {len(array_slicing)}\u0027)"
    },
    {
      "cell_type": "code",
      "execution_count": 12,
      "metadata": {
        "autoscroll": "auto"
      },
      "outputs": [],
      "source": "%python\n#test base slicing\nbase_slicing.info(\u0027 \u0027)"
    },
    {
      "cell_type": "code",
      "execution_count": 13,
      "metadata": {
        "autoscroll": "auto"
      },
      "outputs": [],
      "source": "%python\n#hasil base field\ndf_base \u003d base_field.copy()\nprint(df_base)"
    },
    {
      "cell_type": "code",
      "execution_count": 14,
      "metadata": {
        "autoscroll": "auto"
      },
      "outputs": [],
      "source": "%python\n\nfor i in range(0, 60):\n    schema_name \u003d \u0027bps\u0027\n    materialized_view_name \u003d f\u0027sakernas_feb_2015_15_variabel_{base_slicing.columns[i]}\u0027\n    column_name_from_df \u003d df[base_slicing.columns[i]].name\n\n    try:\n        dataset \u003d pd.concat([df_base, df[base_slicing.columns[i]]], axis\u003d1)\n        dataset_columns \u003d list(dataset.columns)\n\n        # Construct the SELECT clause with the correct column names (quoted)\n        columns_query \u003d \u0027, \u0027.join(f\u0027\"{col}\"\u0027 for col in dataset_columns)\n\n        # Update the SQL query to use the correct column names (quoted)\n        create_materialized_view_query \u003d f\"\"\"\n            CREATE MATERIALIZED VIEW {schema_name}.{materialized_view_name}\n            AS\n            SELECT \u0027{column_name_from_df}\u0027 AS kode_variabel, {columns_query}\n            FROM bps.sakernas_feb_2015_15;\n        \"\"\"\n\n        # Execute the query\n        cursor.execute(create_materialized_view_query)\n        print(dataset.columns)\n        print(\u0027success\u0027)\n    except Exception as e:\n        # Response if an error occurs\n        print(f\"An error occurred: {e}\")\n\n# Commit the changes outside the loop\nconn_source.commit()\n\n"
    },
    {
      "cell_type": "raw",
      "metadata": {
        "format": "text/plain"
      },
      "source": "%python\n"
    }
  ]
}