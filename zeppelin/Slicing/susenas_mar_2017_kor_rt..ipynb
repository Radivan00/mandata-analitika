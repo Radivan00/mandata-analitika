﻿{
  "metadata": {
    "name": "susenas_mar_2017_kor_rt",
    "kernelspec": {
      "language": "scala",
      "name": "spark2-scala"
    },
    "language_info": {
      "codemirror_mode": "text/x-scala",
      "file_extension": ".scala",
      "mimetype": "text/x-scala",
      "name": "scala",
      "pygments_lexer": "scala"
    }
  },
  "nbformat": 4,
  "nbformat_minor": 2,
  "cells": [
    {
      "cell_type": "code",
      "execution_count": 0,
      "metadata": {
        "autoscroll": "auto"
      },
      "outputs": [],
      "source": "%python.conf\nzeppelin.interpreter.launcher yarn\nzeppelin.yarn.dist.archives file:///home/hadoopuser/pyenv2.tar.gz#pyenv2\nzeppelin.interpreter.conda.env.name pyenv2"
    },
    {
      "cell_type": "code",
      "execution_count": 1,
      "metadata": {
        "autoscroll": "auto"
      },
      "outputs": [],
      "source": "%python\nimport psycopg2\nimport pandas as pd\n"
    },
    {
      "cell_type": "code",
      "execution_count": 2,
      "metadata": {
        "autoscroll": "auto"
      },
      "outputs": [],
      "source": "%python\n#database source\nconn_source \u003d psycopg2.connect(\n    database\u003d\"produksi\",\n    user\u003d\"tim2\",\n    password\u003d\"suropati02\",\n    host\u003d\"10.2.130.45\",\n    port\u003d\"5432\"\n)"
    },
    {
      "cell_type": "code",
      "execution_count": 3,
      "metadata": {
        "autoscroll": "auto"
      },
      "outputs": [],
      "source": "%python\n# Create a cursor database source\ncursor \u003d conn_source.cursor()\n\n# create\n# variabel database source schema and table\nschema_name \u003d \"statistik_bps_susenas\"\ntable_name \u003d \"susenas_mar_2017_kor_rt\"\n"
    },
    {
      "cell_type": "code",
      "execution_count": 4,
      "metadata": {
        "autoscroll": "auto"
      },
      "outputs": [],
      "source": "%python\n#selection data from table in schema\nquery_dbsource \u003d f\"SELECT * FROM {schema_name}.{table_name};\"\ncursor.execute(query_dbsource)\n\n# Mengambil hasil query dan menyimpannya di DataFrame Pandas\ncolumns \u003d [desc[0] for desc in cursor.description]\ndata \u003d cursor.fetchall()\ndf \u003d pd.DataFrame(data, columns\u003dcolumns)\nprint(df)\n"
    },
    {
      "cell_type": "code",
      "execution_count": 5,
      "metadata": {
        "autoscroll": "auto"
      },
      "outputs": [],
      "source": "%python\n#cek variabel dataframe\ndf.info(\u0027 \u0027)"
    },
    {
      "cell_type": "code",
      "execution_count": 6,
      "metadata": {
        "autoscroll": "auto"
      },
      "outputs": [],
      "source": "%python\n\nfrom data_mikro import slicing\n\nschema_name \u003d \"statistik_bps_susenas\"\ntable_name \u003d \"susenas_mar_2017_kor_rt\"\nbasic_columns_str \u003d \"R101,R102,R105,NUINFO_RT1,NUINFO_RT2,NUINFO_RT3,CATATAN,FWT,RTGL1,RBLN1,RMULAI1_JA,RMULAI1_ME,RSELESAI1J,RSELESAI1M,RTGL2,RBLN2,RMULAI2_JA,RMULAI2_ME,RSELESAI2J,RSELESAI2M,RTGL3,RBLN3,RMULAI3_JA,RMULAI3_ME,RSELESAI3J,RSELESAI3M,RTGL4,RBLN4,RMULAI4_JA,RMULAI4_ME,RSELESAI4J,RSELESAI4M,JAMMULAI,MENITMULAI,RJAMSELESA,RMENITSELE,FOOD,NFOOD,EXPEND,EXP_CAP,RENUM\"\n\nslicing(schema_name, table_name, basic_columns_str)"
    },
    {
      "cell_type": "code",
      "execution_count": 7,
      "metadata": {
        "autoscroll": "auto"
      },
      "outputs": [],
      "source": "%python\n\n%python\n"
    }
  ]
}