﻿{
  "metadata": {
    "name": "susenas_mar_2021_kor_rt_dds",
    "kernelspec": {
      "language": "scala",
      "name": "spark2-scala"
    },
    "language_info": {
      "codemirror_mode": "text/x-scala",
      "file_extension": ".scala",
      "mimetype": "text/x-scala",
      "name": "scala",
      "pygments_lexer": "scala"
    }
  },
  "nbformat": 4,
  "nbformat_minor": 2,
  "cells": [
    {
      "cell_type": "code",
      "execution_count": 0,
      "metadata": {
        "autoscroll": "auto"
      },
      "outputs": [],
      "source": "%python.conf\nzeppelin.interpreter.launcher yarn\nzeppelin.yarn.dist.archives file:///home/hadoopuser/pyenv2.tar.gz#pyenv2\nzeppelin.interpreter.conda.env.name pyenv2\nzeppelin.interpreter.yarn.resource.cores 12"
    },
    {
      "cell_type": "code",
      "execution_count": 1,
      "metadata": {
        "autoscroll": "auto"
      },
      "outputs": [],
      "source": "%python\nimport psycopg2\nimport pandas as pd\n"
    },
    {
      "cell_type": "code",
      "execution_count": 2,
      "metadata": {
        "autoscroll": "auto"
      },
      "outputs": [],
      "source": "# %python\n# #database source\n# conn_source \u003d psycopg2.connect(\n#     database\u003d\"produksi\",\n#     user\u003d\"tim2\",\n#     password\u003d\"suropati02\",\n#     host\u003d\"10.2.130.45\",\n#     port\u003d\"5432\"\n# )"
    },
    {
      "cell_type": "code",
      "execution_count": 3,
      "metadata": {
        "autoscroll": "auto"
      },
      "outputs": [],
      "source": "%python\n#database source\nconn_source \u003d psycopg2.connect(\n    database\u003d\"akuisisi\",\n    user\u003d\"pusdatinrenbang\",\n    password\u003d\"sementar4\",\n    host\u003d\"gis-db.bappenas.go.id\",\n    port\u003d\"5433\"\n)"
    },
    {
      "cell_type": "code",
      "execution_count": 4,
      "metadata": {
        "autoscroll": "auto"
      },
      "outputs": [],
      "source": "%python\n# Create a cursor database source\ncursor \u003d conn_source.cursor()\n\n# create\n# variabel database source schema and table\nschema_name \u003d \"statistik_bps_susenas\"\ntable_name \u003d \"susenas_mar_2021_kor_rt_dds\"\n"
    },
    {
      "cell_type": "code",
      "execution_count": 5,
      "metadata": {
        "autoscroll": "auto"
      },
      "outputs": [],
      "source": "%python\n#selection data from table in schema\nquery_dbsource \u003d f\"SELECT * FROM {schema_name}.{table_name};\"\ncursor.execute(query_dbsource)\n\n# Mengambil hasil query dan menyimpannya di DataFrame Pandas\ncolumns \u003d [desc[0] for desc in cursor.description]\ndata \u003d cursor.fetchall()\ndf \u003d pd.DataFrame(data, columns\u003dcolumns)\nprint(df)\n"
    },
    {
      "cell_type": "code",
      "execution_count": 6,
      "metadata": {
        "autoscroll": "auto"
      },
      "outputs": [],
      "source": "%python\n#cek variabel dataframe\ndf.info(\u0027 \u0027)"
    },
    {
      "cell_type": "code",
      "execution_count": 7,
      "metadata": {
        "autoscroll": "auto"
      },
      "outputs": [],
      "source": "%python\n\nfrom data_mikro import slicing\n\nschema_name \u003d \"statistik_bps_susenas\"\ntable_name \u003d \"susenas_mar_2021_kor_rt_dds\"\nbasic_columns_str \u003d \"RENUM,WI1,WI2,R101,R102,R105,NUINFORT,NUINFORT1,NU_ART2211,FWT,PSU,SSU,STRATA\"\n\nslicing(schema_name, table_name, basic_columns_str)"
    },
    {
      "cell_type": "code",
      "execution_count": 8,
      "metadata": {
        "autoscroll": "auto"
      },
      "outputs": [],
      "source": "%python\n\n%python\n"
    }
  ]
}